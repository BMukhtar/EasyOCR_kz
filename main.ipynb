{
 "cells": [
  {
   "cell_type": "code",
   "execution_count": 4,
   "outputs": [],
   "source": [
    "import easyocr\n",
    "reader = easyocr.Reader(\n",
    "    ['en'],\n",
    "    recog_network='best_accuracy',\n",
    "    user_network_directory='./models',\n",
    "    model_storage_directory='./models',\n",
    ") # this needs to run only once to load the model into memory\n",
    "result = reader.readtext('./examples/english.png')"
   ],
   "metadata": {
    "collapsed": false,
    "ExecuteTime": {
     "end_time": "2023-08-26T15:05:54.833243700Z",
     "start_time": "2023-08-26T15:05:51.868603500Z"
    }
   }
  },
  {
   "cell_type": "code",
   "execution_count": 5,
   "outputs": [
    {
     "data": {
      "text/plain": "[([[231, 32], [674, 32], [674, 64], [231, 64]],\n  'Reduce Vour risk Of Coronavirus intection:',\n  0.08263349791133535),\n ([[326, 98], [598, 98], [598, 124], [326, 124]],\n  'Clean hands With Soap and Water',\n  0.31667182970147234),\n ([[328, 124], [542, 124], [542, 148], [328, 148]],\n  'Or alcohol based hand rub',\n  0.13470119598056396),\n ([[246, 169], [595, 169], [595, 196], [246, 196]],\n  'Cower ose and mouth When Coughing and',\n  0.11825759289736659),\n ([[245, 194], [546, 194], [546, 222], [245, 222]],\n  'Ssneezing With issue Or Hexed elbow',\n  0.05823261085698016),\n ([[320, 240], [624, 240], [624, 266], [320, 266]],\n  'Avoid close Contact With anyone With',\n  0.2233277846633256),\n ([[318, 266], [528, 266], [528, 292], [318, 292]],\n  'Cold Or Hu-Rike Symptoms',\n  0.09503672478143432),\n ([[248, 322], [510, 322], [510, 348], [248, 348]],\n  'Thoroughly Coolk eat and eggs',\n  0.16496195104771164),\n ([[332, 370], [640, 370], [640, 396], [332, 396]],\n  'Mo unprotected Contact With Ive Wild',\n  0.12586661457948994),\n ([[334, 396], [464, 396], [464, 420], [334, 420]],\n  'Or famm animals',\n  0.12849604575336618),\n ([[595, 427], [683, 427], [683, 447], [595, 447]],\n  'Wod Mealh',\n  0.27468110308835275),\n ([[595, 445], [685, 445], [685, 463], [595, 463]],\n  'Organization',\n  0.2646084049090785)]"
     },
     "execution_count": 5,
     "metadata": {},
     "output_type": "execute_result"
    }
   ],
   "source": [
    "result"
   ],
   "metadata": {
    "collapsed": false,
    "ExecuteTime": {
     "end_time": "2023-08-26T15:05:58.744699700Z",
     "start_time": "2023-08-26T15:05:58.681759300Z"
    }
   }
  },
  {
   "cell_type": "code",
   "execution_count": null,
   "outputs": [],
   "source": [],
   "metadata": {
    "collapsed": false
   }
  }
 ],
 "metadata": {
  "kernelspec": {
   "display_name": "Python 3",
   "language": "python",
   "name": "python3"
  },
  "language_info": {
   "codemirror_mode": {
    "name": "ipython",
    "version": 2
   },
   "file_extension": ".py",
   "mimetype": "text/x-python",
   "name": "python",
   "nbconvert_exporter": "python",
   "pygments_lexer": "ipython2",
   "version": "2.7.6"
  }
 },
 "nbformat": 4,
 "nbformat_minor": 0
}
