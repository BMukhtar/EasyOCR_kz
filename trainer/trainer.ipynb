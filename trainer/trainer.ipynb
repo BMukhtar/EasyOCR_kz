{
 "cells": [
  {
   "cell_type": "code",
   "execution_count": 1,
   "metadata": {
    "ExecuteTime": {
     "end_time": "2023-08-20T20:58:41.458829Z",
     "start_time": "2023-08-20T20:58:39.343723Z"
    }
   },
   "outputs": [],
   "source": [
    "import os\n",
    "import torch.backends.cudnn as cudnn\n",
    "import yaml\n",
    "from train import train\n",
    "from utils import AttrDict\n",
    "import pandas as pd"
   ]
  },
  {
   "cell_type": "code",
   "execution_count": 2,
   "metadata": {
    "code_folding": [],
    "ExecuteTime": {
     "end_time": "2023-08-20T20:58:45.186289Z",
     "start_time": "2023-08-20T20:58:45.184326Z"
    }
   },
   "outputs": [],
   "source": [
    "cudnn.benchmark = True\n",
    "cudnn.deterministic = False"
   ]
  },
  {
   "cell_type": "code",
   "execution_count": 5,
   "metadata": {
    "code_folding": [
     0
    ],
    "ExecuteTime": {
     "end_time": "2023-08-20T21:00:41.691124Z",
     "start_time": "2023-08-20T21:00:41.689044Z"
    }
   },
   "outputs": [],
   "source": [
    "def get_config(file_path):\n",
    "    with open(file_path, 'r', encoding=\"utf8\") as stream:\n",
    "        opt = yaml.safe_load(stream)\n",
    "    opt = AttrDict(opt)\n",
    "    if opt.lang_char == 'None':\n",
    "        characters = ''\n",
    "        for data in opt['select_data'].split('-'):\n",
    "            csv_path = os.path.join(opt['train_data'], data, 'labels.csv')\n",
    "            df = pd.read_csv(csv_path, sep='^([^,]+),', engine='python', usecols=['filename', 'words'], keep_default_na=False)\n",
    "            all_char = ''.join(df['words'])\n",
    "            characters += ''.join(set(all_char))\n",
    "        characters = sorted(set(characters))\n",
    "        opt.character= ''.join(characters)\n",
    "    else:\n",
    "        opt.character = opt.number + opt.symbol + opt.lang_char\n",
    "    os.makedirs(f'./saved_models/{opt.experiment_name}', exist_ok=True)\n",
    "    return opt"
   ]
  },
  {
   "cell_type": "code",
   "execution_count": 6,
   "metadata": {
    "ExecuteTime": {
     "end_time": "2023-08-20T21:00:42.858197Z",
     "start_time": "2023-08-20T21:00:42.793849Z"
    }
   },
   "outputs": [
    {
     "name": "stdout",
     "output_type": "stream",
     "text": [
      "Filtering the images containing characters which are not in opt.character\n",
      "Filtering the images whose label is longer than opt.batch_max_length\n",
      "--------------------------------------------------------------------------------\n",
      "dataset_root: all_data\n",
      "opt.select_data: ['en_train_filtered']\n",
      "opt.batch_ratio: ['1']\n",
      "--------------------------------------------------------------------------------\n",
      "dataset_root:    all_data\t dataset: en_train_filtered\n"
     ]
    },
    {
     "ename": "AssertionError",
     "evalue": "datasets should not be an empty iterable",
     "output_type": "error",
     "traceback": [
      "\u001B[0;31m---------------------------------------------------------------------------\u001B[0m",
      "\u001B[0;31mAssertionError\u001B[0m                            Traceback (most recent call last)",
      "Cell \u001B[0;32mIn[6], line 2\u001B[0m\n\u001B[1;32m      1\u001B[0m opt \u001B[38;5;241m=\u001B[39m get_config(\u001B[38;5;124m\"\u001B[39m\u001B[38;5;124mconfig_files/en_filtered_config.yaml\u001B[39m\u001B[38;5;124m\"\u001B[39m)\n\u001B[0;32m----> 2\u001B[0m \u001B[43mtrain\u001B[49m\u001B[43m(\u001B[49m\u001B[43mopt\u001B[49m\u001B[43m,\u001B[49m\u001B[43m \u001B[49m\u001B[43mamp\u001B[49m\u001B[38;5;241;43m=\u001B[39;49m\u001B[38;5;28;43;01mFalse\u001B[39;49;00m\u001B[43m)\u001B[49m\n",
      "File \u001B[0;32m~/projects/EasyOCR/trainer/train.py:40\u001B[0m, in \u001B[0;36mtrain\u001B[0;34m(opt, show_number, amp)\u001B[0m\n\u001B[1;32m     38\u001B[0m opt\u001B[38;5;241m.\u001B[39mselect_data \u001B[38;5;241m=\u001B[39m opt\u001B[38;5;241m.\u001B[39mselect_data\u001B[38;5;241m.\u001B[39msplit(\u001B[38;5;124m'\u001B[39m\u001B[38;5;124m-\u001B[39m\u001B[38;5;124m'\u001B[39m)\n\u001B[1;32m     39\u001B[0m opt\u001B[38;5;241m.\u001B[39mbatch_ratio \u001B[38;5;241m=\u001B[39m opt\u001B[38;5;241m.\u001B[39mbatch_ratio\u001B[38;5;241m.\u001B[39msplit(\u001B[38;5;124m'\u001B[39m\u001B[38;5;124m-\u001B[39m\u001B[38;5;124m'\u001B[39m)\n\u001B[0;32m---> 40\u001B[0m train_dataset \u001B[38;5;241m=\u001B[39m \u001B[43mBatch_Balanced_Dataset\u001B[49m\u001B[43m(\u001B[49m\u001B[43mopt\u001B[49m\u001B[43m)\u001B[49m\n\u001B[1;32m     42\u001B[0m log \u001B[38;5;241m=\u001B[39m \u001B[38;5;28mopen\u001B[39m(\u001B[38;5;124mf\u001B[39m\u001B[38;5;124m'\u001B[39m\u001B[38;5;124m./saved_models/\u001B[39m\u001B[38;5;132;01m{\u001B[39;00mopt\u001B[38;5;241m.\u001B[39mexperiment_name\u001B[38;5;132;01m}\u001B[39;00m\u001B[38;5;124m/log_dataset.txt\u001B[39m\u001B[38;5;124m'\u001B[39m, \u001B[38;5;124m'\u001B[39m\u001B[38;5;124ma\u001B[39m\u001B[38;5;124m'\u001B[39m, encoding\u001B[38;5;241m=\u001B[39m\u001B[38;5;124m\"\u001B[39m\u001B[38;5;124mutf8\u001B[39m\u001B[38;5;124m\"\u001B[39m)\n\u001B[1;32m     43\u001B[0m AlignCollate_valid \u001B[38;5;241m=\u001B[39m AlignCollate(imgH\u001B[38;5;241m=\u001B[39mopt\u001B[38;5;241m.\u001B[39mimgH, imgW\u001B[38;5;241m=\u001B[39mopt\u001B[38;5;241m.\u001B[39mimgW, keep_ratio_with_pad\u001B[38;5;241m=\u001B[39mopt\u001B[38;5;241m.\u001B[39mPAD, contrast_adjust\u001B[38;5;241m=\u001B[39mopt\u001B[38;5;241m.\u001B[39mcontrast_adjust)\n",
      "File \u001B[0;32m~/projects/EasyOCR/trainer/dataset.py:56\u001B[0m, in \u001B[0;36mBatch_Balanced_Dataset.__init__\u001B[0;34m(self, opt)\u001B[0m\n\u001B[1;32m     54\u001B[0m \u001B[38;5;28mprint\u001B[39m(dashed_line)\n\u001B[1;32m     55\u001B[0m log\u001B[38;5;241m.\u001B[39mwrite(dashed_line \u001B[38;5;241m+\u001B[39m \u001B[38;5;124m'\u001B[39m\u001B[38;5;130;01m\\n\u001B[39;00m\u001B[38;5;124m'\u001B[39m)\n\u001B[0;32m---> 56\u001B[0m _dataset, _dataset_log \u001B[38;5;241m=\u001B[39m \u001B[43mhierarchical_dataset\u001B[49m\u001B[43m(\u001B[49m\u001B[43mroot\u001B[49m\u001B[38;5;241;43m=\u001B[39;49m\u001B[43mopt\u001B[49m\u001B[38;5;241;43m.\u001B[39;49m\u001B[43mtrain_data\u001B[49m\u001B[43m,\u001B[49m\u001B[43m \u001B[49m\u001B[43mopt\u001B[49m\u001B[38;5;241;43m=\u001B[39;49m\u001B[43mopt\u001B[49m\u001B[43m,\u001B[49m\u001B[43m \u001B[49m\u001B[43mselect_data\u001B[49m\u001B[38;5;241;43m=\u001B[39;49m\u001B[43m[\u001B[49m\u001B[43mselected_d\u001B[49m\u001B[43m]\u001B[49m\u001B[43m)\u001B[49m\n\u001B[1;32m     57\u001B[0m total_number_dataset \u001B[38;5;241m=\u001B[39m \u001B[38;5;28mlen\u001B[39m(_dataset)\n\u001B[1;32m     58\u001B[0m log\u001B[38;5;241m.\u001B[39mwrite(_dataset_log)\n",
      "File \u001B[0;32m~/projects/EasyOCR/trainer/dataset.py:138\u001B[0m, in \u001B[0;36mhierarchical_dataset\u001B[0;34m(root, opt, select_data)\u001B[0m\n\u001B[1;32m    135\u001B[0m             dataset_log \u001B[38;5;241m+\u001B[39m\u001B[38;5;241m=\u001B[39m \u001B[38;5;124mf\u001B[39m\u001B[38;5;124m'\u001B[39m\u001B[38;5;132;01m{\u001B[39;00msub_dataset_log\u001B[38;5;132;01m}\u001B[39;00m\u001B[38;5;130;01m\\n\u001B[39;00m\u001B[38;5;124m'\u001B[39m\n\u001B[1;32m    136\u001B[0m             dataset_list\u001B[38;5;241m.\u001B[39mappend(dataset)\n\u001B[0;32m--> 138\u001B[0m concatenated_dataset \u001B[38;5;241m=\u001B[39m \u001B[43mConcatDataset\u001B[49m\u001B[43m(\u001B[49m\u001B[43mdataset_list\u001B[49m\u001B[43m)\u001B[49m\n\u001B[1;32m    140\u001B[0m \u001B[38;5;28;01mreturn\u001B[39;00m concatenated_dataset, dataset_log\n",
      "File \u001B[0;32m~/mambaforge/envs/easy/lib/python3.9/site-packages/torch/utils/data/dataset.py:225\u001B[0m, in \u001B[0;36mConcatDataset.__init__\u001B[0;34m(self, datasets)\u001B[0m\n\u001B[1;32m    223\u001B[0m \u001B[38;5;28msuper\u001B[39m()\u001B[38;5;241m.\u001B[39m\u001B[38;5;21m__init__\u001B[39m()\n\u001B[1;32m    224\u001B[0m \u001B[38;5;28mself\u001B[39m\u001B[38;5;241m.\u001B[39mdatasets \u001B[38;5;241m=\u001B[39m \u001B[38;5;28mlist\u001B[39m(datasets)\n\u001B[0;32m--> 225\u001B[0m \u001B[38;5;28;01massert\u001B[39;00m \u001B[38;5;28mlen\u001B[39m(\u001B[38;5;28mself\u001B[39m\u001B[38;5;241m.\u001B[39mdatasets) \u001B[38;5;241m>\u001B[39m \u001B[38;5;241m0\u001B[39m, \u001B[38;5;124m'\u001B[39m\u001B[38;5;124mdatasets should not be an empty iterable\u001B[39m\u001B[38;5;124m'\u001B[39m  \u001B[38;5;66;03m# type: ignore[arg-type]\u001B[39;00m\n\u001B[1;32m    226\u001B[0m \u001B[38;5;28;01mfor\u001B[39;00m d \u001B[38;5;129;01min\u001B[39;00m \u001B[38;5;28mself\u001B[39m\u001B[38;5;241m.\u001B[39mdatasets:\n\u001B[1;32m    227\u001B[0m     \u001B[38;5;28;01massert\u001B[39;00m \u001B[38;5;129;01mnot\u001B[39;00m \u001B[38;5;28misinstance\u001B[39m(d, IterableDataset), \u001B[38;5;124m\"\u001B[39m\u001B[38;5;124mConcatDataset does not support IterableDataset\u001B[39m\u001B[38;5;124m\"\u001B[39m\n",
      "\u001B[0;31mAssertionError\u001B[0m: datasets should not be an empty iterable"
     ]
    }
   ],
   "source": [
    "opt = get_config(\"config_files/en_filtered_config.yaml\")\n",
    "train(opt, amp=False)"
   ]
  },
  {
   "cell_type": "code",
   "execution_count": null,
   "metadata": {},
   "outputs": [],
   "source": []
  }
 ],
 "metadata": {
  "kernelspec": {
   "display_name": "Python 3",
   "language": "python",
   "name": "python3"
  },
  "language_info": {
   "codemirror_mode": {
    "name": "ipython",
    "version": 3
   },
   "file_extension": ".py",
   "mimetype": "text/x-python",
   "name": "python",
   "nbconvert_exporter": "python",
   "pygments_lexer": "ipython3",
   "version": "3.8.11"
  }
 },
 "nbformat": 4,
 "nbformat_minor": 2
}
