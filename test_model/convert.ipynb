{
 "cells": [
  {
   "cell_type": "code",
   "execution_count": 1,
   "metadata": {},
   "outputs": [
    {
     "name": "stderr",
     "output_type": "stream",
     "text": [
      "Using CPU. Note: This module is much faster with a GPU.\n"
     ]
    },
    {
     "name": "stdout",
     "output_type": "stream",
     "text": [
      "/home/bma/EasyOCR_kz/test_model/../easyocr/__init__.py\n"
     ]
    },
    {
     "name": "stderr",
     "output_type": "stream",
     "text": [
      "100%|██████████| 1/1 [00:24<00:00, 24.54s/it]\n"
     ]
    }
   ],
   "source": [
    "import cv2\n",
    "import numpy as np\n",
    "import easyocr\n",
    "import json\n",
    "from tqdm import tqdm\n",
    "\n",
    "# Initialize the OCR reader\n",
    "reader = easyocr.Reader(['en'], gpu=False, recog_network='best_norm_ED',\n",
    "                        user_network_directory='../models', model_storage_directory='../models')\n",
    "\n",
    "images = ['test.png']\n",
    "\n",
    "# Initialize the list to store annotations for all images\n",
    "all_annotations = []\n",
    "\n",
    "for image_name in tqdm(images):\n",
    "    image = cv2.imread(\"../examples/\" + image_name)\n",
    "    image = cv2.cvtColor(image, cv2.COLOR_BGR2RGB)\n",
    "    results = reader.readtext(image=image)\n",
    "\n",
    "    # Get image dimensions\n",
    "    height, width, _ = image.shape\n",
    "\n",
    "    # Create a dictionary to store data for the current image\n",
    "    image_data = {\n",
    "        \"id\": len(all_annotations) + 1,\n",
    "        \"annotations\": [],\n",
    "        \"file_upload\": image_name,\n",
    "        \"data\": {\"ocr\": f\"/data/upload/1/{image_name}\"}\n",
    "        # Add other fields as needed\n",
    "    }\n",
    "\n",
    "    for idx, (bbox, text, prob) in enumerate(results):\n",
    "        top_left, top_right, bottom_right, bottom_left = bbox\n",
    "\n",
    "        # Calculate the bounding box and text area dimensions\n",
    "        x = top_left[0] / width * 100\n",
    "        y = top_left[1] / height * 100\n",
    "        bbox_width = (bottom_right[0] - top_left[0]) / width * 100\n",
    "        bbox_height = (bottom_right[1] - top_left[1]) / height * 100\n",
    "\n",
    "        # Create annotation and transcription dictionaries\n",
    "        bbox_annotation = {\n",
    "            \"original_width\": width,\n",
    "            \"original_height\": height,\n",
    "            \"image_rotation\": 0,\n",
    "            \"value\": {\n",
    "                \"x\": x,\n",
    "                \"y\": y,\n",
    "                \"width\": bbox_width,\n",
    "                \"height\": bbox_height,\n",
    "                \"rotation\": 0\n",
    "            },\n",
    "            \"id\": f\"bbox_{idx}\",\n",
    "            \"from_name\": \"bbox\",\n",
    "            \"to_name\": \"image\",\n",
    "            \"type\": \"rectangle\",\n",
    "            \"origin\": \"manual\"\n",
    "        }\n",
    "\n",
    "        text_annotation = {\n",
    "            \"original_width\": width,\n",
    "            \"original_height\": height,\n",
    "            \"image_rotation\": 0,\n",
    "            \"value\": {\n",
    "                \"x\": x,\n",
    "                \"y\": y,\n",
    "                \"width\": bbox_width,\n",
    "                \"height\": bbox_height,\n",
    "                \"rotation\": 0,\n",
    "                \"text\": [text]\n",
    "            },\n",
    "            \"id\": f\"text_{idx}\",\n",
    "            \"from_name\": \"transcription\",\n",
    "            \"to_name\": \"image\",\n",
    "            \"type\": \"textarea\",\n",
    "            \"origin\": \"manual\"\n",
    "        }\n",
    "\n",
    "        # Add annotations to the image data\n",
    "        image_data[\"annotations\"].append(bbox_annotation)\n",
    "        image_data[\"annotations\"].append(text_annotation)\n",
    "\n",
    "    # Add the image data to the all annotations list\n",
    "    all_annotations.append(image_data)\n",
    "\n",
    "# Write the annotations to a JSON file\n",
    "with open('label_studio_annotations.json', 'w') as outfile:\n",
    "    json.dump(all_annotations, outfile, indent=4)\n"
   ]
  },
  {
   "cell_type": "code",
   "execution_count": null,
   "metadata": {},
   "outputs": [],
   "source": []
  }
 ],
 "metadata": {
  "kernelspec": {
   "display_name": "kz_ocr",
   "language": "python",
   "name": "python3"
  },
  "language_info": {
   "codemirror_mode": {
    "name": "ipython",
    "version": 3
   },
   "file_extension": ".py",
   "mimetype": "text/x-python",
   "name": "python",
   "nbconvert_exporter": "python",
   "pygments_lexer": "ipython3",
   "version": "3.9.16"
  }
 },
 "nbformat": 4,
 "nbformat_minor": 2
}
