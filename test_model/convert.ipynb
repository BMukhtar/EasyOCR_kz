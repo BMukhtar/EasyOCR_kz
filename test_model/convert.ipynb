{
 "cells": [
  {
   "cell_type": "code",
   "execution_count": 1,
   "metadata": {},
   "outputs": [
    {
     "name": "stderr",
     "output_type": "stream",
     "text": [
      "Using CPU. Note: This module is much faster with a GPU.\n"
     ]
    },
    {
     "name": "stdout",
     "output_type": "stream",
     "text": [
      "/home/bma/EasyOCR_kz/test_model/../easyocr/__init__.py\n"
     ]
    },
    {
     "name": "stderr",
     "output_type": "stream",
     "text": [
      "100%|██████████| 1/1 [00:03<00:00,  3.05s/it]\n"
     ]
    }
   ],
   "source": [
    "import cv2\n",
    "import numpy as np\n",
    "from PIL import Image, ImageDraw, ImageFont\n",
    "from tqdm import tqdm\n",
    "import os\n",
    "\n",
    "import sys\n",
    "sys.path.append('../')\n",
    "\n",
    "import easyocr\n",
    "\n",
    "# add ../easyocr package to sys\n",
    "\n",
    "\n",
    "print(easyocr.__file__)\n",
    "\n",
    "reader = easyocr.Reader(\n",
    "    ['en'],\n",
    "    gpu=False,\n",
    "    recog_network='best_norm_ED',\n",
    "    user_network_directory='../models',\n",
    "    model_storage_directory='../models',\n",
    ")  # this needs to run only once to load the model into memory\n",
    "\n",
    "images = ['test.png']\n",
    "\n",
    "for image_name in tqdm(images):\n",
    "    # Read image as numpy array\n",
    "    image = cv2.imread(\"../examples/\" + image_name)\n",
    "\n",
    "    # Rotate the image by 270 degrees\n",
    "    # image = cv2.rotate(image, cv2.ROTATE_90_CLOCKWISE)\n",
    "\n",
    "    # Convert the image from BGR to RGB (because OpenCV loads images in BGR format)\n",
    "    image = cv2.cvtColor(image, cv2.COLOR_BGR2RGB)\n",
    "    results = reader.readtext(image=image)\n",
    "\n",
    "    # Load custom font\n",
    "    font_path = \"./Ubuntu-Regular.ttf\"\n",
    "    font = ImageFont.truetype(font_path, 32)\n",
    "\n",
    "    # Display the results\n",
    "    for (bbox, text, prob) in results:\n",
    "        # Get the bounding box coordinates\n",
    "        (top_left, top_right, bottom_right, bottom_left) = bbox\n",
    "        top_left = (int(top_left[0]), int(top_left[1]))\n",
    "        bottom_right = (int(bottom_right[0]), int(bottom_right[1]))\n",
    "\n",
    "        # Draw the bounding box on the image\n",
    "        cv2.rectangle(image, top_left, bottom_right, (0, 255, 0), 2)\n",
    "\n",
    "        # Convert the OpenCV image to a PIL image, draw the text, then convert back to an OpenCV image\n",
    "        image_pil = Image.fromarray(cv2.cvtColor(image, cv2.COLOR_BGR2RGB))\n",
    "        draw = ImageDraw.Draw(image_pil)\n",
    "        draw.text((top_left[0], top_left[1] - 40), text, font=font, fill=(0, 0, 255))\n",
    "        image = cv2.cvtColor(np.array(image_pil), cv2.COLOR_RGB2BGR)\n",
    "\n",
    "    # Save image\n",
    "    cv2.imwrite('./output/' + image_name, image)\n",
    "\n",
    "    # reader.readtext(image = image, paragraph=True)\n"
   ]
  },
  {
   "cell_type": "code",
   "execution_count": null,
   "metadata": {},
   "outputs": [],
   "source": []
  }
 ],
 "metadata": {
  "kernelspec": {
   "display_name": "kz_ocr",
   "language": "python",
   "name": "python3"
  },
  "language_info": {
   "codemirror_mode": {
    "name": "ipython",
    "version": 3
   },
   "file_extension": ".py",
   "mimetype": "text/x-python",
   "name": "python",
   "nbconvert_exporter": "python",
   "pygments_lexer": "ipython3",
   "version": "3.10.12"
  }
 },
 "nbformat": 4,
 "nbformat_minor": 2
}
