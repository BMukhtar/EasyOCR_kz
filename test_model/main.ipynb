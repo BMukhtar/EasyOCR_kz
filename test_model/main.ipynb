{
 "cells": [
  {
   "cell_type": "code",
   "execution_count": 4,
   "metadata": {
    "ExecuteTime": {
     "end_time": "2023-09-29T04:57:38.474070300Z",
     "start_time": "2023-09-29T04:57:32.843029500Z"
    },
    "collapsed": false
   },
   "outputs": [
    {
     "name": "stdout",
     "output_type": "stream",
     "text": [
      "/home/bma/EasyOCR_kz/test_model/../easyocr/__init__.py\n"
     ]
    },
    {
     "name": "stderr",
     "output_type": "stream",
     "text": [
      "100%|██████████| 1/1 [00:02<00:00,  2.19s/it]\n"
     ]
    }
   ],
   "source": [
    "import cv2\n",
    "import numpy as np\n",
    "from PIL import Image, ImageDraw, ImageFont\n",
    "from tqdm import tqdm\n",
    "import os\n",
    "\n",
    "import sys\n",
    "sys.path.append('../')\n",
    "\n",
    "import easyocr\n",
    "\n",
    "# add ../easyocr package to sys\n",
    "\n",
    "\n",
    "print(easyocr.__file__)\n",
    "\n",
    "reader = easyocr.Reader(\n",
    "    ['en'],\n",
    "    gpu=True,\n",
    "    recog_network='best_norm_ED',\n",
    "    user_network_directory='../models',\n",
    "    model_storage_directory='../models',\n",
    ")  # this needs to run only once to load the model into memory\n",
    "\n",
    "images = ['book_easy_1.jpg']\n",
    "# images = ['book_easy_1.jpg', 'kz_book_simple.jpeg', 'kz_blur.jpg', 'kz_book_complex.jpg', '20230629_160049.jpg']\n",
    "\n",
    "for image_name in tqdm(images):\n",
    "    # Read image as numpy array\n",
    "    image = cv2.imread(\"../examples/\" + image_name)\n",
    "\n",
    "    # Rotate the image by 270 degrees\n",
    "    # image = cv2.rotate(image, cv2.ROTATE_90_CLOCKWISE)\n",
    "\n",
    "    # Convert the image from BGR to RGB (because OpenCV loads images in BGR format)\n",
    "    image = cv2.cvtColor(image, cv2.COLOR_BGR2RGB)\n",
    "    results = reader.readtext(\n",
    "        image=image, \n",
    "        batch_size=64,\n",
    "        width_ths = 0\n",
    "        )\n",
    "\n",
    "    # Load custom font\n",
    "    font_path = \"./Ubuntu-Regular.ttf\"\n",
    "    \n",
    "\n",
    "    # Display the results\n",
    "    for (bbox, text, prob) in results:\n",
    "        # Get the bounding box coordinates\n",
    "        (top_left, top_right, bottom_right, bottom_left) = bbox\n",
    "        top_left = (int(top_left[0]), int(top_left[1]))\n",
    "        bottom_right = (int(bottom_right[0]), int(bottom_right[1]))\n",
    "\n",
    "        # height\n",
    "        h = bottom_right[1] - top_left[1]\n",
    "        # width\n",
    "        w = bottom_right[0] - top_left[0]\n",
    "        # define font size based on height\n",
    "        font_size = max(int(h / 3), 10)\n",
    "        font = ImageFont.truetype(font_path, font_size)\n",
    "\n",
    "        # Draw the bounding box on the image\n",
    "        cv2.rectangle(image, top_left, bottom_right, (0, 255, 0), 2)\n",
    "\n",
    "        # Convert the OpenCV image to a PIL image, draw the text, then convert back to an OpenCV image\n",
    "        image_pil = Image.fromarray(cv2.cvtColor(image, cv2.COLOR_BGR2RGB))\n",
    "        draw = ImageDraw.Draw(image_pil)\n",
    "        \n",
    "        draw.text((top_left[0]+int(w/3), top_left[1]-int(font_size/2)), text, font=font, fill=(0, 0, 255))\n",
    "        image = cv2.cvtColor(np.array(image_pil), cv2.COLOR_RGB2BGR)\n",
    "\n",
    "    # Save image\n",
    "    cv2.imwrite('./output/' + image_name, image)\n",
    "\n",
    "    wholeText = reader.readtext(image = image, paragraph=True, y_ths=0.2)\n",
    "    # write to file\n",
    "    with open('./output/' + image_name + '.txt', 'w') as f:\n",
    "        for text in wholeText:\n",
    "            f.write(text[1] + '\\n')  \n",
    "        \n",
    "\n"
   ]
  },
  {
   "cell_type": "code",
   "execution_count": null,
   "metadata": {},
   "outputs": [],
   "source": []
  }
 ],
 "metadata": {
  "kernelspec": {
   "display_name": "Python 3",
   "language": "python",
   "name": "python3"
  },
  "language_info": {
   "codemirror_mode": {
    "name": "ipython",
    "version": 3
   },
   "file_extension": ".py",
   "mimetype": "text/x-python",
   "name": "python",
   "nbconvert_exporter": "python",
   "pygments_lexer": "ipython3",
   "version": "3.10.12"
  }
 },
 "nbformat": 4,
 "nbformat_minor": 0
}
