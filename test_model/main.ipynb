{
 "cells": [
  {
   "cell_type": "code",
   "execution_count": 1,
   "outputs": [
    {
     "name": "stderr",
     "output_type": "stream",
     "text": [
      "Using CPU. Note: This module is much faster with a GPU.\n",
      "Compiling deform_conv_cpu ...\n",
      "(This may take a while if this module is loaded for the first time.)\n",
      "Done.\n",
      "Compiling deform_conv_cuda ...\n",
      "(This may take a while if this module is loaded for the first time.)\n",
      "Failed to import or compile 'deform_conv_cuda' with the following error Error building extension 'deform_conv_cuda': [1/2] /usr/bin/nvcc  -DTORCH_EXTENSION_NAME=deform_conv_cuda -DTORCH_API_INCLUDE_EXTENSION_H -DPYBIND11_COMPILER_TYPE=\\\"_gcc\\\" -DPYBIND11_STDLIB=\\\"_libstdcpp\\\" -DPYBIND11_BUILD_ABI=\\\"_cxxabi1011\\\" -isystem /home/bma/miniforge3/envs/easy/lib/python3.10/site-packages/torch/include -isystem /home/bma/miniforge3/envs/easy/lib/python3.10/site-packages/torch/include/torch/csrc/api/include -isystem /home/bma/miniforge3/envs/easy/lib/python3.10/site-packages/torch/include/TH -isystem /home/bma/miniforge3/envs/easy/lib/python3.10/site-packages/torch/include/THC -isystem /home/bma/miniforge3/envs/easy/include/python3.10 -D_GLIBCXX_USE_CXX11_ABI=0 -D__CUDA_NO_HALF_OPERATORS__ -D__CUDA_NO_HALF_CONVERSIONS__ -D__CUDA_NO_BFLOAT16_CONVERSIONS__ -D__CUDA_NO_HALF2_OPERATORS__ --expt-relaxed-constexpr -gencode=arch=compute_86,code=compute_86 -gencode=arch=compute_86,code=sm_86 --compiler-options '-fPIC' -std=c++17 -c /home/bma/EasyOCR_kz/easyocr/DBNet/assets/ops/dcn/src/deform_conv_cuda_kernel.cu -o deform_conv_cuda_kernel.cuda.o \n",
      "\u001B[31mFAILED: \u001B[0mdeform_conv_cuda_kernel.cuda.o \n",
      "/usr/bin/nvcc  -DTORCH_EXTENSION_NAME=deform_conv_cuda -DTORCH_API_INCLUDE_EXTENSION_H -DPYBIND11_COMPILER_TYPE=\\\"_gcc\\\" -DPYBIND11_STDLIB=\\\"_libstdcpp\\\" -DPYBIND11_BUILD_ABI=\\\"_cxxabi1011\\\" -isystem /home/bma/miniforge3/envs/easy/lib/python3.10/site-packages/torch/include -isystem /home/bma/miniforge3/envs/easy/lib/python3.10/site-packages/torch/include/torch/csrc/api/include -isystem /home/bma/miniforge3/envs/easy/lib/python3.10/site-packages/torch/include/TH -isystem /home/bma/miniforge3/envs/easy/lib/python3.10/site-packages/torch/include/THC -isystem /home/bma/miniforge3/envs/easy/include/python3.10 -D_GLIBCXX_USE_CXX11_ABI=0 -D__CUDA_NO_HALF_OPERATORS__ -D__CUDA_NO_HALF_CONVERSIONS__ -D__CUDA_NO_BFLOAT16_CONVERSIONS__ -D__CUDA_NO_HALF2_OPERATORS__ --expt-relaxed-constexpr -gencode=arch=compute_86,code=compute_86 -gencode=arch=compute_86,code=sm_86 --compiler-options '-fPIC' -std=c++17 -c /home/bma/EasyOCR_kz/easyocr/DBNet/assets/ops/dcn/src/deform_conv_cuda_kernel.cu -o deform_conv_cuda_kernel.cuda.o \n",
      "/usr/include/c++/11/bits/std_function.h:435:145: error: parameter packs not expanded with '...':\n",
      "  435 |         function(_Functor&& __f)\n",
      "      |                                                                                                                                                 ^ \n",
      "/usr/include/c++/11/bits/std_function.h:435:145: note:         '_ArgTypes'\n",
      "/usr/include/c++/11/bits/std_function.h:530:146: error: parameter packs not expanded with '...':\n",
      "  530 |         operator=(_Functor&& __f)\n",
      "      |                                                                                                                                                  ^ \n",
      "/usr/include/c++/11/bits/std_function.h:530:146: note:         '_ArgTypes'\n",
      "ninja: build stopped: subcommand failed.\n",
      " Deformable convulution and DBNet will not be able to run on GPU.\n",
      "Compiling deform_pool_cpu ...\n",
      "(This may take a while if this module is loaded for the first time.)\n",
      "Done.\n",
      "Compiling deform_pool_cuda ...\n",
      "(This may take a while if this module is loaded for the first time.)\n",
      "Failed to import or compile 'deform_pool_cuda' with the following error Error building extension 'deform_pool_cuda': [1/2] /usr/bin/nvcc  -DTORCH_EXTENSION_NAME=deform_pool_cuda -DTORCH_API_INCLUDE_EXTENSION_H -DPYBIND11_COMPILER_TYPE=\\\"_gcc\\\" -DPYBIND11_STDLIB=\\\"_libstdcpp\\\" -DPYBIND11_BUILD_ABI=\\\"_cxxabi1011\\\" -isystem /home/bma/miniforge3/envs/easy/lib/python3.10/site-packages/torch/include -isystem /home/bma/miniforge3/envs/easy/lib/python3.10/site-packages/torch/include/torch/csrc/api/include -isystem /home/bma/miniforge3/envs/easy/lib/python3.10/site-packages/torch/include/TH -isystem /home/bma/miniforge3/envs/easy/lib/python3.10/site-packages/torch/include/THC -isystem /home/bma/miniforge3/envs/easy/include/python3.10 -D_GLIBCXX_USE_CXX11_ABI=0 -D__CUDA_NO_HALF_OPERATORS__ -D__CUDA_NO_HALF_CONVERSIONS__ -D__CUDA_NO_BFLOAT16_CONVERSIONS__ -D__CUDA_NO_HALF2_OPERATORS__ --expt-relaxed-constexpr -gencode=arch=compute_86,code=compute_86 -gencode=arch=compute_86,code=sm_86 --compiler-options '-fPIC' -std=c++17 -c /home/bma/EasyOCR_kz/easyocr/DBNet/assets/ops/dcn/src/deform_pool_cuda_kernel.cu -o deform_pool_cuda_kernel.cuda.o \n",
      "\u001B[31mFAILED: \u001B[0mdeform_pool_cuda_kernel.cuda.o \n",
      "/usr/bin/nvcc  -DTORCH_EXTENSION_NAME=deform_pool_cuda -DTORCH_API_INCLUDE_EXTENSION_H -DPYBIND11_COMPILER_TYPE=\\\"_gcc\\\" -DPYBIND11_STDLIB=\\\"_libstdcpp\\\" -DPYBIND11_BUILD_ABI=\\\"_cxxabi1011\\\" -isystem /home/bma/miniforge3/envs/easy/lib/python3.10/site-packages/torch/include -isystem /home/bma/miniforge3/envs/easy/lib/python3.10/site-packages/torch/include/torch/csrc/api/include -isystem /home/bma/miniforge3/envs/easy/lib/python3.10/site-packages/torch/include/TH -isystem /home/bma/miniforge3/envs/easy/lib/python3.10/site-packages/torch/include/THC -isystem /home/bma/miniforge3/envs/easy/include/python3.10 -D_GLIBCXX_USE_CXX11_ABI=0 -D__CUDA_NO_HALF_OPERATORS__ -D__CUDA_NO_HALF_CONVERSIONS__ -D__CUDA_NO_BFLOAT16_CONVERSIONS__ -D__CUDA_NO_HALF2_OPERATORS__ --expt-relaxed-constexpr -gencode=arch=compute_86,code=compute_86 -gencode=arch=compute_86,code=sm_86 --compiler-options '-fPIC' -std=c++17 -c /home/bma/EasyOCR_kz/easyocr/DBNet/assets/ops/dcn/src/deform_pool_cuda_kernel.cu -o deform_pool_cuda_kernel.cuda.o \n",
      "/usr/include/c++/11/bits/std_function.h:435:145: error: parameter packs not expanded with '...':\n",
      "  435 |         function(_Functor&& __f)\n",
      "      |                                                                                                                                                 ^ \n",
      "/usr/include/c++/11/bits/std_function.h:435:145: note:         '_ArgTypes'\n",
      "/usr/include/c++/11/bits/std_function.h:530:146: error: parameter packs not expanded with '...':\n",
      "  530 |         operator=(_Functor&& __f)\n",
      "      |                                                                                                                                                  ^ \n",
      "/usr/include/c++/11/bits/std_function.h:530:146: note:         '_ArgTypes'\n",
      "ninja: build stopped: subcommand failed.\n",
      " Deformable convulution and DBNet will not be able to run on GPU.\n",
      "100%|██████████| 3/3 [01:44<00:00, 34.79s/it]\n"
     ]
    }
   ],
   "source": [
    "import cv2\n",
    "import numpy as np\n",
    "from PIL import Image, ImageDraw, ImageFont\n",
    "from tqdm import tqdm\n",
    "\n",
    "import easyocr\n",
    "\n",
    "reader = easyocr.Reader(\n",
    "    ['en'],\n",
    "    gpu=False,\n",
    "    recog_network='best_norm_ED',\n",
    "    detect_network=\"dbnet18\",\n",
    "    user_network_directory='../models',\n",
    "    model_storage_directory='../models',\n",
    ")  # this needs to run only once to load the model into memory\n",
    "\n",
    "images = ['kz_book_simple.jpeg', 'kz_blur.jpg', 'kz_book_complex.jpg']\n",
    "\n",
    "for image_name in tqdm(images):\n",
    "    # Read image as numpy array\n",
    "    image = cv2.imread(\"../examples/\" + image_name)\n",
    "\n",
    "    # Rotate the image by 270 degrees\n",
    "    # image = cv2.rotate(image, cv2.ROTATE_90_CLOCKWISE)\n",
    "\n",
    "    # Convert the image from BGR to RGB (because OpenCV loads images in BGR format)\n",
    "    image = cv2.cvtColor(image, cv2.COLOR_BGR2RGB)\n",
    "    results = reader.readtext(image=image)\n",
    "\n",
    "    # Load custom font\n",
    "    font_path = \"./Ubuntu-Regular.ttf\"\n",
    "    font = ImageFont.truetype(font_path, 32)\n",
    "\n",
    "    # Display the results\n",
    "    for (bbox, text, prob) in results:\n",
    "        # Get the bounding box coordinates\n",
    "        (top_left, top_right, bottom_right, bottom_left) = bbox\n",
    "        top_left = (int(top_left[0]), int(top_left[1]))\n",
    "        bottom_right = (int(bottom_right[0]), int(bottom_right[1]))\n",
    "\n",
    "        # Draw the bounding box on the image\n",
    "        cv2.rectangle(image, top_left, bottom_right, (0, 255, 0), 2)\n",
    "\n",
    "        # Convert the OpenCV image to a PIL image, draw the text, then convert back to an OpenCV image\n",
    "        image_pil = Image.fromarray(cv2.cvtColor(image, cv2.COLOR_BGR2RGB))\n",
    "        draw = ImageDraw.Draw(image_pil)\n",
    "        draw.text((top_left[0], top_left[1] - 40), text, font=font, fill=(0, 0, 255))\n",
    "        image = cv2.cvtColor(np.array(image_pil), cv2.COLOR_RGB2BGR)\n",
    "\n",
    "    # Save image\n",
    "    cv2.imwrite('./output/' + image_name, image)\n",
    "\n",
    "    # reader.readtext(image = image, paragraph=True)\n"
   ],
   "metadata": {
    "collapsed": false,
    "ExecuteTime": {
     "end_time": "2023-09-14T01:59:45.208473400Z",
     "start_time": "2023-09-14T01:57:37.490212900Z"
    }
   }
  },
  {
   "cell_type": "code",
   "execution_count": null,
   "outputs": [],
   "source": [],
   "metadata": {
    "collapsed": false
   }
  }
 ],
 "metadata": {
  "kernelspec": {
   "display_name": "Python 3",
   "language": "python",
   "name": "python3"
  },
  "language_info": {
   "codemirror_mode": {
    "name": "ipython",
    "version": 2
   },
   "file_extension": ".py",
   "mimetype": "text/x-python",
   "name": "python",
   "nbconvert_exporter": "python",
   "pygments_lexer": "ipython2",
   "version": "2.7.6"
  }
 },
 "nbformat": 4,
 "nbformat_minor": 0
}
